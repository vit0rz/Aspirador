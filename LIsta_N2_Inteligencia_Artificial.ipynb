{
  "nbformat": 4,
  "nbformat_minor": 0,
  "metadata": {
    "colab": {
      "provenance": [],
      "include_colab_link": true
    },
    "kernelspec": {
      "name": "python3",
      "display_name": "Python 3"
    },
    "language_info": {
      "name": "python"
    }
  },
  "cells": [
    {
      "cell_type": "markdown",
      "metadata": {
        "id": "view-in-github",
        "colab_type": "text"
      },
      "source": [
        "<a href=\"https://colab.research.google.com/github/vit0rz/Aspirador/blob/main/LIsta_N2_Inteligencia_Artificial.ipynb\" target=\"_parent\"><img src=\"https://colab.research.google.com/assets/colab-badge.svg\" alt=\"Open In Colab\"/></a>"
      ]
    },
    {
      "cell_type": "markdown",
      "source": [
        "**Lista de Exercícios N2**\n",
        "\n",
        "Tema: Grafos e Algoritmos de Busca (Dijkstra, A*, em-ordem, pré-ordem e pós-ordem)\n",
        "\n",
        "Disciplina: Inteligência Artificial\\\n",
        "Ambiente: Google Colab\\\n",
        "Entrega: via repositório individual no GitHub"
      ],
      "metadata": {
        "id": "51-tDsdpFH9B"
      }
    },
    {
      "cell_type": "markdown",
      "source": [
        "**Nome completo:**\\\n",
        "**Matricula:**"
      ],
      "metadata": {
        "id": "-02FfQpMKNEb"
      }
    },
    {
      "cell_type": "markdown",
      "source": [
        "**Regras Gerais**\n",
        "\n",
        "- Trabalho individual.\n",
        "\n",
        "- Linguagem: Python 3 (Google Colab).\n",
        "\n",
        "- É permitido usar: heapq, numpy, matplotlib, dataclasses.\n",
        "\n",
        "- Proibido usar funções prontas de shortest path (networkx.shortest_path, scipy.sparse.csgraph.dijkstra, etc.).\n",
        "\n",
        "O Notebook (.ipynb) deve conter:\n",
        "\n",
        "- Identificação (nome, turma, link do GitHub)\n",
        "\n",
        "- Código, testes e reflexões\n",
        "\n",
        "- Seções organizadas conforme o roteiro abaixo."
      ],
      "metadata": {
        "id": "iJ41FayHF8rV"
      }
    },
    {
      "cell_type": "markdown",
      "source": [
        "**Parte A — Dijkstra (Caminho Mínimo em Grafos Ponderados Positivos)**\n",
        "\n",
        "> Imagine que você está projetando um sistema de navegação para ambulâncias em uma cidade. Cada interseção é representada como um nó e cada rua como uma aresta ponderada com o tempo médio de deslocamento. Você precisa encontrar a rota mais rápida entre o hospital e o local de atendimento, garantindo que o caminho tenha custo mínimo e seja correto mesmo em grandes redes urbanas.\n",
        "\n",
        "**Atividades**\n",
        "\n",
        "- Implemente o algoritmo de Dijkstra, retornando o custo mínimo (dist) e os predecessores (parent).\n",
        "\n",
        "- Crie uma função reconstruct_path(parent, target) que reconstrua o trajeto.\n",
        "\n",
        "Teste o algoritmo em um grafo de exemplo.\n",
        "\n",
        "**Explique (Questões Discursivas):**\n",
        "\n",
        "1. Por que Dijkstra exige arestas não negativas?\n",
        "\n",
        "2. Qual a complexidade do algoritmo com lista de adjacência e heapq?\n",
        "\n",
        "💡 Dica: Compare seu resultado com um mapa simples — se mudar o peso de uma rua, a rota muda?"
      ],
      "metadata": {
        "id": "XKYf0iFXGaV1"
      }
    },
    {
      "cell_type": "code",
      "source": [
        "import heapq\n",
        "\n",
        "def dijkstra(grafo, origem):\n",
        "    \"\"\"\n",
        "    Algoritmo de Dijkstra\n",
        "    Retorna o menor custo (distâncias) e o caminho (predecessores)\n",
        "    \"\"\"\n",
        "\n",
        "    dist = {no: float('inf') for no in grafo}\n",
        "    parent = {no: None for no in grafo}\n",
        "\n",
        "\n",
        "    dist[origem] = 0\n",
        "\n",
        "\n",
        "    fila = [(0, origem)]\n",
        "\n",
        "\n",
        "    while fila:\n",
        "\n",
        "        custo_atual, atual = heapq.heappop(fila)\n",
        "\n",
        "\n",
        "        if custo_atual > dist[atual]:\n",
        "            continue\n",
        "\n",
        "\n",
        "        for vizinho, peso in grafo[atual].items():\n",
        "            novo_custo = dist[atual] + peso\n",
        "\n",
        "            if novo_custo < dist[vizinho]:\n",
        "                dist[vizinho] = novo_custo\n",
        "                parent[vizinho] = atual\n",
        "                heapq.heappush(fila, (novo_custo, vizinho))\n",
        "\n",
        "    return dist, parent\n",
        "\n",
        "\n",
        "def reconstruir_caminho(parent, destino):\n",
        "    \"\"\"\n",
        "    Reconstrói o caminho mais curto até o destino\n",
        "    usando o dicionário de predecessores (parent)\n",
        "    \"\"\"\n",
        "    caminho = []\n",
        "    atual = destino\n",
        "\n",
        "    while atual is not None:\n",
        "        caminho.append(atual)\n",
        "        atual = parent[atual]\n",
        "\n",
        "    caminho.reverse()\n",
        "    return caminho\n",
        "\n",
        "\n",
        "grafo = {\n",
        "    'Hospital': {'A': 4, 'B': 2},\n",
        "    'A': {'C': 3},\n",
        "    'B': {'A': 1, 'C': 5, 'D': 8},\n",
        "    'C': {'D': 2, 'Local': 4},\n",
        "    'D': {'Local': 1},\n",
        "    'Local': {}\n",
        "}\n",
        "\n",
        "\n",
        "distancias, predecessores = dijkstra(grafo, 'Hospital')\n",
        "\n",
        "\n",
        "caminho = reconstruir_caminho(predecessores, 'Local')\n",
        "\n",
        "\n",
        "print(\"🕒 Custo mínimo até o local:\", distancias['Local'])\n",
        "print(\"🗺️ Caminho mais rápido:\", \" → \".join(caminho))\n",
        "\n",
        "\n",
        "\n",
        " # Por que Dijkstra exige arestas não negativas?\n",
        "\n",
        " #O algoritmo de Dijkstra pressupõe que ao expandir o nó com menor distância atual, esse valor já é o menor possível (definitivo).\n",
        " #Se existissem arestas negativas, um caminho posterior poderia reduzir o custo total, invalidando essa suposição e tornando o resultado incorreto."
      ],
      "metadata": {
        "id": "vKwE6Qo2IBFc",
        "colab": {
          "base_uri": "https://localhost:8080/"
        },
        "outputId": "3f489d01-6b1c-418b-a114-210c754deae3"
      },
      "execution_count": 1,
      "outputs": [
        {
          "output_type": "stream",
          "name": "stdout",
          "text": [
            "🕒 Custo mínimo até o local: 9\n",
            "🗺️ Caminho mais rápido: Hospital → B → A → C → D → Local\n"
          ]
        }
      ]
    },
    {
      "cell_type": "markdown",
      "source": [
        "**Parte B — A-Star (Busca Informada com Heurística Admissível)**\n",
        "\n",
        "> Agora, considere um robô autônomo que deve se deslocar por um labirinto 2D, evitando obstáculos e chegando ao destino no menor tempo possível.\n",
        "Diferente do Dijkstra, o robô pode usar uma heurística (como a distância ao alvo) para priorizar rotas promissoras, economizando tempo de busca.\n",
        "\n",
        "**Atividades**\n",
        "\n",
        "1. Gere um grid 20x20 com ~15% de obstáculos aleatórios.\n",
        "\n",
        "2. Implemente a função heuristic(a, b) (distância Manhattan).\n",
        "\n",
        "3. Desenvolva o algoritmo a_star(grid, start, goal, h) e teste-o.\n",
        "\n",
        "**Explique (Questões Discursivas):**\n",
        "\n",
        "1. A* vs Dijkstra: qual expande menos nós?\n",
        "\n",
        "2. Por que a heurística Manhattan é admissível nesse caso?\n",
        "\n",
        "💡 Cenário real: O A* é amplamente usado em robôs aspiradores, drones e jogos. Seu desafio é aplicar o mesmo raciocínio."
      ],
      "metadata": {
        "id": "9vCEA95GGx_6"
      }
    },
    {
      "cell_type": "code",
      "source": [
        "import heapq\n",
        "import random\n",
        "\n",
        "\n",
        "def gerar_grid(tamanho=20, obstaculos_percent=0.15):\n",
        "    grid = []\n",
        "    for _ in range(tamanho):\n",
        "        linha = []\n",
        "        for _ in range(tamanho):\n",
        "\n",
        "            if random.random() < obstaculos_percent:\n",
        "                linha.append(1)\n",
        "            else:\n",
        "                linha.append(0)\n",
        "        grid.append(linha)\n",
        "    return grid\n",
        "\n",
        "\n",
        "def heuristic(a, b):\n",
        "    \"\"\"\n",
        "    Heurística de Manhattan — soma das diferenças absolutas das coordenadas\n",
        "    h(n) = |x1 - x2| + |y1 - y2|\n",
        "    \"\"\"\n",
        "    (x1, y1) = a\n",
        "    (x2, y2) = b\n",
        "    return abs(x1 - x2) + abs(y1 - y2)\n",
        "\n",
        "\n",
        "def a_star(grid, start, goal, h):\n",
        "    tamanho = len(grid)\n",
        "    fila = [(0, start)]\n",
        "    heapq.heapify(fila)\n",
        "\n",
        "\n",
        "    g_score = {start: 0}\n",
        "\n",
        "    parent = {start: None}\n",
        "\n",
        "    while fila:\n",
        "        _, atual = heapq.heappop(fila)\n",
        "\n",
        "\n",
        "        if atual == goal:\n",
        "            break\n",
        "\n",
        "        x, y = atual\n",
        "        vizinhos = [(x+1, y), (x-1, y), (x, y+1), (x, y-1)]\n",
        "\n",
        "        for nx, ny in vizinhos:\n",
        "            if 0 <= nx < tamanho and 0 <= ny < tamanho and grid[nx][ny] == 0:\n",
        "                novo_custo = g_score[atual] + 1\n",
        "                if (nx, ny) not in g_score or novo_custo < g_score[(nx, ny)]:\n",
        "                    g_score[(nx, ny)] = novo_custo\n",
        "                    prioridade = novo_custo + h((nx, ny), goal)\n",
        "                    heapq.heappush(fila, (prioridade, (nx, ny)))\n",
        "                    parent[(nx, ny)] = atual\n",
        "\n",
        "    return parent, g_score\n",
        "\n",
        "\n",
        "\n",
        "def reconstruir_caminho(parent, start, goal):\n",
        "    caminho = []\n",
        "    atual = goal\n",
        "    while atual is not None:\n",
        "        caminho.append(atual)\n",
        "        atual = parent.get(atual)\n",
        "    caminho.reverse()\n",
        "    return caminho if caminho[0] == start else []\n",
        "\n",
        "\n",
        "\n",
        "grid = gerar_grid()\n",
        "start = (0, 0)\n",
        "goal = (19, 19)\n",
        "\n",
        "parent, g_score = a_star(grid, start, goal, heuristic)\n",
        "caminho = reconstruir_caminho(parent, start, goal)\n",
        "\n",
        "print(\"Início:\", start)\n",
        "print(\" Objetivo:\", goal)\n",
        "print(\" Custo total:\", g_score.get(goal, \"Sem caminho encontrado\"))\n",
        "print(\" Caminho encontrado:\", caminho)\n"
      ],
      "metadata": {
        "id": "XMIxqCl3FEt6",
        "colab": {
          "base_uri": "https://localhost:8080/"
        },
        "outputId": "6dee5c42-8162-4a2a-d086-d6396ea4e93b"
      },
      "execution_count": 3,
      "outputs": [
        {
          "output_type": "stream",
          "name": "stdout",
          "text": [
            "🏁 Início: (0, 0)\n",
            "🎯 Objetivo: (19, 19)\n",
            "📏 Custo total: 38\n",
            "🗺️ Caminho encontrado: [(0, 0), (0, 1), (0, 2), (0, 3), (0, 4), (0, 5), (0, 6), (0, 7), (0, 8), (0, 9), (0, 10), (0, 11), (0, 12), (0, 13), (0, 14), (1, 14), (1, 15), (1, 16), (2, 16), (3, 16), (4, 16), (4, 17), (5, 17), (6, 17), (7, 17), (8, 17), (9, 17), (10, 17), (11, 17), (12, 17), (12, 18), (13, 18), (14, 18), (14, 19), (15, 19), (16, 19), (17, 19), (18, 19), (19, 19)]\n"
          ]
        }
      ]
    },
    {
      "cell_type": "code",
      "source": [],
      "metadata": {
        "id": "zQ1WgmxRFB8N"
      },
      "execution_count": 2,
      "outputs": []
    },
    {
      "cell_type": "markdown",
      "source": [
        "**Parte C — Árvores Binárias e Percursos (DFS em-ordem, pré-ordem e pós-ordem)**\n",
        "\n",
        "> Você está desenvolvendo um sistema de recomendação que organiza produtos em uma árvore binária de busca (BST), conforme o preço. Cada nó é um produto e a travessia da árvore pode ser usada para: 1. Ordenar produtos (em-ordem); 2. Clonar a estrutura (pré-ordem); 3. Calcular totais ou liberar memória (pós-ordem);\n",
        "\n",
        "**Atividades**\n",
        "\n",
        "1. Crie uma BST com os valores: [50, 30, 70, 20, 40, 60, 80, 35, 45].\n",
        "\n",
        "Implemente os percursos:\n",
        "\n",
        "1. in_order(root)\n",
        "\n",
        "2. pre_order(root)\n",
        "\n",
        "3. post_order(root)\n",
        "\n",
        "Teste se as saídas correspondem às travessias esperadas.\n",
        "\n",
        "**Explique (Questões Discursivas):**\n",
        "\n",
        "1. Em que situação cada tipo de percurso é mais indicado?"
      ],
      "metadata": {
        "id": "qJ1Rbf22IASJ"
      }
    },
    {
      "cell_type": "code",
      "source": [
        "\n",
        "class No:\n",
        "    def __init__(self, valor):\n",
        "        self.valor = valor\n",
        "        self.esquerda = None\n",
        "        self.direita = None\n",
        "\n",
        "\n",
        "\n",
        "def inserir(raiz, valor)\n",
        "    if raiz is None:\n",
        "        return No(valor)\n",
        "    if valor < raiz.valor:\n",
        "        raiz.esquerda = inserir(raiz.esquerda, valor)\n",
        "    else:\n",
        "        raiz.direita = inserir(raiz.direita, valor)\n",
        "    return raiz\n",
        "\n",
        "\n",
        "\n",
        "def in_order(raiz):\n",
        "    if raiz:\n",
        "        in_order(raiz.esquerda)\n",
        "        print(raiz.valor, end=\" \")\n",
        "        in_order(raiz.direita)\n",
        "\n",
        "\n",
        "def pre_order(raiz):\n",
        "    if raiz:\n",
        "        print(raiz.valor, end=\" \")\n",
        "        pre_order(raiz.esquerda)\n",
        "        pre_order(raiz.direita)\n",
        "\n",
        "\n",
        "def post_order(raiz):\n",
        "\n",
        "    if raiz:\n",
        "        post_order(raiz.esquerda)\n",
        "        post_order(raiz.direita)\n",
        "        print(raiz.valor, end=\" \")\n",
        "\n",
        "\n",
        "\n",
        "if __name__ == \"__main__\":\n",
        "\n",
        "    valores = [50, 30, 70, 20, 40, 60, 80, 35, 45]\n",
        "\n",
        "    raiz = None\n",
        "    for v in valore\n"
      ],
      "metadata": {
        "id": "jxol5GNCIrM9"
      },
      "execution_count": null,
      "outputs": []
    },
    {
      "cell_type": "code",
      "source": [],
      "metadata": {
        "id": "6eP76jYWItEK"
      },
      "execution_count": null,
      "outputs": []
    },
    {
      "cell_type": "markdown",
      "source": [
        "**Parte D — Reflexões (Respostas Curtas)**\n",
        "\n",
        "Responda de forma argumentativa (5–10 linhas cada):\n",
        "\n",
        "1. Quando não é vantajoso usar A*, mesmo tendo uma heurística?\n",
        "\n",
        "2. Diferencie corretude e otimalidade nos algoritmos estudados.\n",
        "\n",
        "3. Dê um exemplo do mundo real onde cada tipo de percurso (em, pré, pós) é essencial.\n",
        "\n",
        "4. Como heurísticas inconsistentes podem afetar o resultado do A*?\n",
        "\n",
        "💬 Sugestão: use exemplos de mapas, jogos, sistemas de busca ou árvores sintáticas."
      ],
      "metadata": {
        "id": "5bocfC3rIuwu"
      }
    },
    {
      "cell_type": "markdown",
      "source": [
        "Insira suas respostas aqui"
      ],
      "metadata": {
        "id": "8W_afmXGI6h3"
      }
    },
    {
      "cell_type": "code",
      "source": [
        "Quando não é vantajoso usar A*, mesmo tendo uma heurística?\n",
        "\n",
        "O uso do A* pode ser desvantajoso quando o espaço de busca é muito grande e a heurística não é informativa o suficiente (ou seja, não aproxima bem o destino). Nesses casos, o A* acaba explorando quase tantos nós quanto o Dijkstra, mas com maior custo de processamento e uso de memória, já que mantém listas abertas e fechadas.\n",
        "Em mapas muito extensos ou com pouca variação de pesos, o A* pode se tornar ineficiente, sendo melhor usar algoritmos mais simples, como o Dijkstra ou BFS.\n",
        "\n",
        "Diferencie corretude e otimalidade nos algoritmos estudados.\n",
        "\n",
        "A corretude garante que o algoritmo encontra uma solução válida, ou seja, chega ao destino respeitando as regras do problema.\n",
        "Já a otimalidade assegura que essa solução é a melhor possível, como o menor custo ou menor distância.\n",
        "Por exemplo, tanto o Dijkstra quanto o A* são corretos, mas só serão ótimos se todos os pesos forem não negativos (no Dijkstra) e se a heurística for admissível e consistente (no A*).\n",
        "\n",
        "Dê um exemplo do mundo real onde cada tipo de percurso (em, pré, pós) é essencial.\n",
        "\n",
        "Em-ordem: em um sistema de e-commerce, para listar produtos em ordem crescente de preço.\n",
        "\n",
        "Pré-ordem: em um jogo de construção ou motor gráfico, ao clonar a hierarquia de objetos (pai → filhos).\n",
        "\n",
        "Pós-ordem: em um sistema de gerenciamento de memória, para deletar estruturas complexas (liberando filhos antes dos pais).\n",
        "Cada percurso é essencial para tarefas diferentes — ordenar, copiar ou liberar — conforme a forma como percorre a árvore.\n",
        "\n",
        "Como heurísticas inconsistentes podem afetar o resultado do A*?\n",
        "\n",
        "Uma heurística inconsistente (ou não monótona) pode subestimar o custo real de forma irregular, fazendo o A* reabrir nós já visitados ou até escolher caminhos incorretos temporariamente.\n",
        "Isso aumenta o número de expansões, reduz a eficiência e pode comprometer a otimalidade se o algoritmo não for adaptado para lidar com reaberturas.\n",
        "Em resumo, heurísticas inconsistentes tornam o A* menos previsível e mais custoso, podendo perder desempenho ou precisão em mapas e jogos complexos."
      ],
      "metadata": {
        "id": "Vo_E3Z3AI40h"
      },
      "execution_count": null,
      "outputs": []
    },
    {
      "cell_type": "markdown",
      "source": [
        "**Entrega**\n",
        "\n",
        "Crie um repositório público chamado ia-grafos-seu-nome.\n",
        "\n",
        "Envie para o repositório o arquivo ia_grafos_buscas.ipynb.\n",
        "\n",
        "Submeta o link do repositório no ambiente da disciplina **Portal Digital Fametro.**."
      ],
      "metadata": {
        "id": "vyWiRE5TJEUf"
      }
    },
    {
      "cell_type": "markdown",
      "source": [
        "**Integridade Acadêmica**\n",
        "\n",
        "1. O trabalho é individual.\n",
        "2. Discussões conceituais são permitidas, mas o código deve ser inteiramente autoral.\n",
        "3. Verificações de similaridade serão aplicadas a todas as submissões.\n",
        "4. Busque e estude os algoritmos através de pesquisas na internet, livros, slides da disciplina."
      ],
      "metadata": {
        "id": "xP1stx7fJcCV"
      }
    },
    {
      "cell_type": "code",
      "source": [],
      "metadata": {
        "id": "uxmWR_KlJXDC"
      },
      "execution_count": null,
      "outputs": []
    }
  ]
}